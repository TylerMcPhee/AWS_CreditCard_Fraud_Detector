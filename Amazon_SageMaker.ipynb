{
 "cells": [
  {
   "cell_type": "code",
   "execution_count": null,
   "id": "492bbb78",
   "metadata": {},
   "outputs": [],
   "source": [
    "import pandas as pd\n",
    "from imblearn.over_sampling import RandomOverSampler\n",
    "from sklearn.model_selection import train_test_split\n",
    "from sklearn.preprocessing import MinMaxScaler\n",
    "\n",
    "data = pd.read_csv('data/creditcards.csv')\n",
    "\n",
    "# Shuffle data\n",
    "data = data.sample(frac=1, random_state=42).reset_index(drop=True)\n",
    "\n",
    "#standardize data\n",
    "scaler = MinMaxScaler(feature_range=(0,1))\n",
    "data[['Amount']] = scaler.fit_transform(data[['Amount']])\n",
    "\n",
    "# Separate features and target\n",
    "X = data.drop('Class', axis=1) \n",
    "y = data['Class']\n",
    "\n",
    "# Initialize RandomOverSampler\n",
    "ros = RandomOverSampler(random_state=42)\n",
    "\n",
    "# Resample\n",
    "X_resampled, y_resampled = ros.fit_resample(X, y)\n",
    "\n",
    "#create train and test split\n",
    "X_train, X_test, y_train, y_test = train_test_split(\n",
    "    X_resampled, y_resampled, test_size=0.2, random_state=42, stratify=y_resampled\n",
    ")\n",
    "\n",
    "train_data = pd.concat([pd.DataFrame(X_train, columns=X.columns), pd.Series(y_train, name='Class')], axis=1)\n",
    "test_data = pd.concat([pd.DataFrame(X_test, columns=X.columns), pd.Series(y_test, name='Class')], axis=1)\n",
    "\n",
    "train_data.to_csv('train_data.csv', index=False, header=False)\n",
    "test_data.to_csv('test_data.csv', index=False, header=False)"
   ]
  },
  {
   "cell_type": "code",
   "execution_count": null,
   "id": "1f616e26",
   "metadata": {},
   "outputs": [],
   "source": [
    "## Make S3 bucket\n",
    "\n",
    "#Name is \"sagemaker-build-and-deploy-sagemaker\"\n",
    "\n",
    "# move data into S3 bucket"
   ]
  },
  {
   "cell_type": "code",
   "execution_count": null,
   "id": "153a6108",
   "metadata": {},
   "outputs": [],
   "source": [
    "import boto3\n",
    "\n",
    "bucket_name = \"sagemaker-build-and-deploy-sagemaker\"\n",
    "\n",
    "train_data.to_csv('data.csv', header = False, index =False)\n",
    "key = 'data/train/data'\n",
    "url = 's3://{}/{}'.format(bucket_name,key)\n",
    "boto3.Session().resource('s3').Bucket(bucket_name).Object(key).upload_file('data.csv')\n",
    "\n",
    "test_data.to_csv('data.csv', header = False, index =False)\n",
    "key = 'data/test/data'\n",
    "url = 's3://{}/{}'.format(bucket_name,key)\n",
    "boto3.Session().resource('s3').Bucket(bucket_name).Object(key).upload_file('data.csv')"
   ]
  },
  {
   "cell_type": "code",
   "execution_count": null,
   "id": "8f579a41",
   "metadata": {},
   "outputs": [],
   "source": [
    "# create model\n",
    "import sagemaker\n",
    "from sagemaker.amazon.amazon_estimator import get_image_uri\n",
    "\n",
    "key = 'model/xgb_model'\n",
    "s3_output_location = url = 's3://{}/{}'.format(bucket_name, key)\n",
    "\n",
    "xgb_model =sagemaker.estimator.Estimator(\n",
    "    get_image_uri(boto3.Session().region_name, 'xgboost'),\n",
    "    get_execution_role(),\n",
    "    train_instance_count = 1,\n",
    "    train_instance_type = 'ml.m4.xlarge',\n",
    "    train_volume_size =5,\n",
    "    output_path =s3_output_location,\n",
    "    sagemaker_session=sagemaker.Session()\n",
    ")\n",
    "\n",
    "xgb_model.set_hyperparameters(\n",
    "    max_depth = 5,\n",
    "    eta =.2,\n",
    "    gamma = 4,\n",
    "    min_child_weight =6,\n",
    "    silent =0,\n",
    "    objective = 'multi:softmax',\n",
    "    num_class =3,\n",
    "    num_round =10\n",
    ")"
   ]
  },
  {
   "cell_type": "code",
   "execution_count": null,
   "id": "c9290cd1",
   "metadata": {},
   "outputs": [],
   "source": [
    "#train model\n",
    "train_data = 's3://{}/{}'.format(bucket_name,'data/train')\n",
    "test_data = 's3://{}/{}'.format(bucket_name,'data/test')\n",
    "\n",
    "train_channel = sagemaker.session.s3.input(train_data, content_type ='text/csv')\n",
    "test_channel = sagemaker.session.s3.input(test_data, content_type ='text/csv')\n",
    "\n",
    "data_channels = {'train': train_channel, 'test':test_channel}\n",
    "\n",
    "xgb_model.fit(inputs = data_channels)"
   ]
  },
  {
   "cell_type": "code",
   "execution_count": null,
   "id": "6f9563ed",
   "metadata": {},
   "outputs": [],
   "source": [
    "#deploy model\n",
    "xgb_predictor = xgb_model.deploy(initial_instance_count =1,\n",
    "                                 instance_type = 'ml.m4.large')"
   ]
  }
 ],
 "metadata": {
  "language_info": {
   "name": "python"
  }
 },
 "nbformat": 4,
 "nbformat_minor": 5
}
